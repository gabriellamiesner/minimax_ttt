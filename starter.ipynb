{
 "cells": [
  {
   "cell_type": "code",
   "execution_count": null,
   "metadata": {},
   "outputs": [],
   "source": [
    "class tic_tac_toe():\n",
    "  def __init__(self):\n",
    "    # create board + player\n",
    "\n",
    "\n",
    "  # function to display tic tac toe board\n",
    "\n",
    "  # function to check if a player has won yet\n",
    "\n",
    "  # function to check if board is full + there are no winners\n",
    "\n",
    "\n",
    "  # function to actually play the game\n",
    "    # include error handling for repeat or invalid moves\n",
    "\n"
   ]
  },
  {
   "cell_type": "code",
   "execution_count": null,
   "metadata": {},
   "outputs": [],
   "source": [
    "if __name__ == \"__main__\":\n",
    "  # instantiating class\n",
    "  # creating error handling to actually play the game + end it once someone has won or board is full\n"
   ]
  },
  {
   "cell_type": "code",
   "execution_count": null,
   "metadata": {},
   "outputs": [],
   "source": [
    "class tic_tac_toe_master():\n",
    "  def __init__(self):\n",
    "    # copy down code creating board + player\n",
    "    # declare list with empty slots\n",
    "    # declare with letter is AI + which letter is human\n",
    "\n",
    "  # add current empty slots to list function\n",
    "\n",
    "  # copy down print board function\n",
    "\n",
    "  # copy down most of check_winner function, alter to check if slot is in empties list, rather just just an empty string\n",
    "\n",
    "  # copy down check draw function\n",
    "\n",
    "  # minimax algorithm function"
   ]
  },
  {
   "cell_type": "code",
   "execution_count": null,
   "metadata": {},
   "outputs": [],
   "source": [
    "if __name__ == \"__main__\":\n",
    "  # instatiating class\n",
    "  #   # creating error handling to actually play the game + end it once someone has won or board is full\n",
    "\n"
   ]
  }
 ],
 "metadata": {
  "language_info": {
   "name": "python"
  }
 },
 "nbformat": 4,
 "nbformat_minor": 2
}
